{
 "cells": [
  {
   "cell_type": "code",
   "execution_count": 1,
   "metadata": {},
   "outputs": [
    {
     "data": {
      "text/plain": [
       "{'pasta': 'proc - 21551',\n",
       " 'nome': 'Teste Ged 13_09',\n",
       " 'responsavel': 'Manassés',\n",
       " 'id_tarefa': 'null',\n",
       " 'id_relacionamento': 'null',\n",
       " 'tp_relacionamento': 'exemplo-ged',\n",
       " 'descricao': 'teste postaman para ged',\n",
       " 'filename': 'teste_dia13_09.txt'}"
      ]
     },
     "metadata": {},
     "output_type": "display_data"
    }
   ],
   "source": [
    "data = {\n",
    "    \"pasta\":\"proc - 21551\",\n",
    "    \"nome\":\"Teste Ged 13_09\",\n",
    "    \"responsavel\":\"Manassés\",\n",
    "    \"id_tarefa\": None,\n",
    "    \"id_relacionamento\":None,\n",
    "    \"tp_relacionamento\":\"exemplo-ged\",\n",
    "    \"descricao\":\"teste postaman para ged\",\n",
    "    \"filename\": \"teste_dia13_09.txt\"\n",
    "}\n",
    "\n",
    "\n",
    "payload = {\n",
    "            \"pasta\":data['pasta'] or'null',\n",
    "            \"nome\":data['nome'] or'null',\n",
    "            \"responsavel\":data['responsavel'] or'null',\n",
    "            \"id_tarefa\": data['id_tarefa'] or'null',\n",
    "            \"id_relacionamento\":data['id_relacionamento'] or'null',\n",
    "            \"tp_relacionamento\":data['tp_relacionamento'] or'null',\n",
    "            \"descricao\":data['descricao'] or'null',\n",
    "            \"filename\": data['filename'] or'null'\n",
    "        }\n",
    "\n",
    "display(payload)"
   ]
  },
  {
   "cell_type": "code",
   "execution_count": 11,
   "metadata": {},
   "outputs": [
    {
     "name": "stdout",
     "output_type": "stream",
     "text": [
      "{'pasta': 'proc - 21514', 'nome': 'Teste Ged 18_09 2', 'responsavel': 'Natan', 'id_tarefa': 0, 'id_relacionamento': 0, 'tp_relacionamento': 'exemplo-ged', 'descricao': 'teste para verificar serealizacao', 'filename': 'Custas_18_09.txt'}\n"
     ]
    }
   ],
   "source": [
    "from marshmallow import Schema,fields,ValidationError\n",
    "\n",
    "data ={'pasta': 'proc - 21514',\n",
    "    'nome': 'Teste Ged 18_09 2',\n",
    "    'responsavel': 'Natan', \n",
    "    'id_tarefa':0, \n",
    "    'id_relacionamento':0,\n",
    "    'tp_relacionamento': 'exemplo-ged',\n",
    "    'descricao': 'teste para verificar serealizacao',\n",
    "    'filename': 'Custas_18_09.txt'}\n",
    "\n",
    "def validate_int_or_default_one(value):\n",
    "    if (value == None) or (value == 'nan') or (value == \"\") or (value == 0):\n",
    "        return 100\n",
    "    if not isinstance(value, int):\n",
    "        raise ValidationError(\"O valor deve ser um inteiro, None ou NaN.\")\n",
    "    return value\n",
    "\n",
    "class SalveFileSchema(Schema):\n",
    "    \n",
    "    pasta = fields.Str(required=True)\n",
    "    \n",
    "    nome = fields.Str(required=True)\n",
    "    \n",
    "    responsavel = fields.Str(required=True)\n",
    "    \n",
    "    id_tarefa = fields.Int(validate=validate_int_or_default_one,allow_none=True)\n",
    "    \n",
    "    id_relacionamento = fields.Int(validate=validate_int_or_default_one,allow_none=True)\n",
    "\n",
    "    tp_relacionamento = fields.Str()\n",
    "    \n",
    "    descricao = fields.Str(required=True)\n",
    "    \n",
    "    filename = fields.Str(required=True)\n",
    "    \n",
    "\n",
    "schema = SalveFileSchema()\n",
    "result  = schema.load(data)\n",
    "print(result)\n"
   ]
  }
 ],
 "metadata": {
  "kernelspec": {
   "display_name": "Python 3",
   "language": "python",
   "name": "python3"
  },
  "language_info": {
   "codemirror_mode": {
    "name": "ipython",
    "version": 3
   },
   "file_extension": ".py",
   "mimetype": "text/x-python",
   "name": "python",
   "nbconvert_exporter": "python",
   "pygments_lexer": "ipython3",
   "version": "3.11.3"
  }
 },
 "nbformat": 4,
 "nbformat_minor": 2
}
